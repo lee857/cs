{
 "cells": [
  {
   "cell_type": "markdown",
   "metadata": {},
   "source": [
    "#### Chrome Version 버전: **83.0.4103.116(공식 빌드) (64비트)**\n",
    "#### **contents.zip**파일 오류나면 기존에 있던 contents.csv **삭제**하고 다시 **압축해제** 하세요"
   ]
  },
  {
   "cell_type": "code",
   "execution_count": 62,
   "metadata": {},
   "outputs": [],
   "source": [
    "from selenium import webdriver\n",
    "from selenium.webdriver.support.ui import WebDriverWait\n",
    "from selenium.webdriver.support import expected_conditions as EC\n",
    "from selenium.webdriver.common.by import By\n",
    "from selenium.webdriver.common.keys import Keys\n",
    "\n",
    "from bs4 import BeautifulSoup\n",
    "\n",
    "import time\n",
    "\n",
    "import csv\n",
    "import pandas as pd\n",
    "\n",
    "from tqdm import tqdm"
   ]
  },
  {
   "cell_type": "code",
   "execution_count": null,
   "metadata": {},
   "outputs": [],
   "source": [
    "chrome_driver = './chromedriver'\n",
    "driver = webdriver.Chrome(chrome_driver)\n",
    "driver.implicitly_wait(3)\n",
    "\n",
    "driver.get('https://ohou.se/projects?writer=self')\n",
    "\n",
    "# --------------------------------------------------------------\n",
    "# 전체 개수\n",
    "path = '/html/body/div[1]/div/div[2]/div/div[2]'\n",
    "total_count = driver.find_element(By.XPATH, path)\n",
    "total_count = total_count.text\n",
    "total_count = total_count.replace('전체 ', '')\n",
    "total_count = int(total_count.replace(',', ''))\n",
    "print(total_count)\n",
    "\n",
    "# --------------------------------------------------------------\n",
    "#링크 찾기\n",
    "link_className = 'project-feed__item__link' #클래스 name 설정\n",
    "links = driver.find_elements(By.CLASS_NAME, link_className) #해당 클래스 name 클릭\n",
    "lst_links = [link.get_attribute('href') for link in links]\n",
    "\n",
    "# --------------------------------------------------------------\n",
    "# 무한 스크롤\n",
    "SCROLL_PAUSE_TIME = 0.5\n",
    "\n",
    "while len(lst_links) != total_count:\n",
    "    driver.find_element_by_tag_name('body').send_keys(Keys.PAGE_DOWN)\n",
    "    time.sleep(SCROLL_PAUSE_TIME)\n",
    "    new_links = driver.find_elements_by_class_name(link_className)\n",
    "    for link in new_links:\n",
    "        if link.get_attribute('href') not in lst_links:\n",
    "            lst_links.append(link.get_attribute('href'))   \n",
    "    time.sleep(SCROLL_PAUSE_TIME)\n",
    "print(len(lst_links))"
   ]
  },
  {
   "cell_type": "code",
   "execution_count": 99,
   "metadata": {
    "scrolled": true
   },
   "outputs": [
    {
     "name": "stderr",
     "output_type": "stream",
     "text": [
      "100%|██████████████████████████████████████████████████████████████████████████████████| 30/30 [01:39<00:00,  3.28s/it]\n"
     ]
    }
   ],
   "source": [
    "# csv 파일 불러오기\n",
    "df = pd.read_csv('./contents.csv')\n",
    "columns = df.columns\n",
    "\n",
    "for link in tqdm(lst_links): # 임의로 30개까지 돌림\n",
    "    # 링크 클릭\n",
    "    driver.get(link)\n",
    "    \n",
    "    table_data = {}\n",
    "    for column in columns:\n",
    "        table_data[column] = ''\n",
    "    \n",
    "    # --------------------------------------------------------------\n",
    "    # 집들이 제목 추가\n",
    "    title = driver.find_element(By.CSS_SELECTOR, '#user_action > div.contents > div.title')\n",
    "    table_data['온라인집들이 제목'] = title.text\n",
    "\n",
    "    # --------------------------------------------------------------\n",
    "    #표 가져오기\n",
    "    labels = driver.find_elements(By.CLASS_NAME, 'label')\n",
    "    values = driver.find_elements(By.CLASS_NAME, 'value')\n",
    "\n",
    "    style = []\n",
    "    for value, label in zip(values, labels[3:]):\n",
    "        if label.text == '스타일':\n",
    "            style.append(value.text)\n",
    "            table_data[label.text] = style\n",
    "        else:\n",
    "            table_data[label.text] = value.text\n",
    "\n",
    "    # --------------------------------------------------------------\n",
    "    # 집들이 제품 모아보기 클릭\n",
    "    products_page = driver.find_element(By.CSS_SELECTOR, '#body > div.content-floating-menu__wrap.sticky-bottom > div > a.btn.btn-sm.btn-priority.go_to_products')\n",
    "    products_page.click()\n",
    "\n",
    "    # 제품 이름, 가격 가져와서\n",
    "    # 0원이면 False, 가격이 있다면 True\n",
    "\n",
    "    products = []\n",
    "    product_name = driver.find_elements(By.CLASS_NAME, 'name') # p tag에 class 이름이 name\n",
    "    product_price = driver.find_elements(By.CLASS_NAME, 'price')\n",
    "\n",
    "    # 2개의 리스트 zip으로 묶은뒤 for loop 돌려서 products 리스트에 튜플 형식으로 추가\n",
    "    for name, price in zip(product_name, product_price):\n",
    "        if name.text == '': # 제품이름이 빈칸이면 패스\n",
    "            pass\n",
    "        elif price.text == '0원': # 가격이 0원이면 False\n",
    "            products.append((name.text, False))\n",
    "        else: # 가격이 써져있다면 True\n",
    "            products.append((name.text, True))\n",
    "\n",
    "    table_data['제품명'] = products\n",
    "\n",
    "    df = df.append(pd.Series(table_data), ignore_index=True)\n",
    "    \n",
    "with open('./contents.csv', 'a', encoding='utf-8-sig', newline='') as f:\n",
    "        df.to_csv(f, index=False, header=False)\n",
    "driver.close()"
   ]
  },
  {
   "cell_type": "markdown",
   "metadata": {},
   "source": [
    "# 밑에 부분 신경끄셈"
   ]
  },
  {
   "cell_type": "code",
   "execution_count": 98,
   "metadata": {},
   "outputs": [
    {
     "name": "stdout",
     "output_type": "stream",
     "text": [
      "3590\n"
     ]
    }
   ],
   "source": [
    "chrome_driver = './chromedriver'\n",
    "driver = webdriver.Chrome(chrome_driver)\n",
    "driver.implicitly_wait(3)\n",
    "\n",
    "driver.get('https://ohou.se/projects?writer=self')\n",
    "# --------------------------------------------------------------\n",
    "#링크 클릭\n",
    "link_className = 'project-feed__item__link' #클래스 name 설정\n",
    "links = driver.find_elements(By.CLASS_NAME, link_className) #해당 클래스 name 클릭\n",
    "lst_links = [link.get_attribute('href') for link in links]\n",
    "# --------------------------------------------------------------\n",
    "# 무한 스크롤\n",
    "SCROLL_PAUSE_TIME = 0.5\n",
    "\n",
    "while len(lst_links) != 3590:\n",
    "    driver.find_element_by_tag_name('body').send_keys(Keys.PAGE_DOWN)\n",
    "    time.sleep(SCROLL_PAUSE_TIME)\n",
    "    new_links = driver.find_elements_by_class_name(link_className)\n",
    "    for link in new_links:\n",
    "        if link.get_attribute('href') not in lst_links:\n",
    "            lst_links.append(link.get_attribute('href'))   \n",
    "    time.sleep(SCROLL_PAUSE_TIME)\n",
    "    \n",
    "\n",
    "\n",
    "print(len(lst_links))"
   ]
  },
  {
   "cell_type": "markdown",
   "metadata": {},
   "source": [
    "#### 무한 스크롤 오류 "
   ]
  },
  {
   "cell_type": "code",
   "execution_count": null,
   "metadata": {},
   "outputs": [],
   "source": [
    "# --------------------------------------------------------------\n",
    "# 무한 스크롤\n",
    "SCROLL_PAUSE_TIME = 1\n",
    "\n",
    "# Get scroll height\n",
    "last_height = driver.execute_script(\"return document.documentElement.scrollHeight\")         \n",
    "\n",
    "while True:\n",
    "    # page_down key 3번 반복 -> html tag refresh\n",
    "    for i in range(3):\n",
    "        time.sleep(SCROLL_PAUSE_TIME) # 페이지 로드 기다림\n",
    "        driver.find_element_by_tag_name('body').send_keys(Keys.PAGE_DOWN)\n",
    "        time.sleep(SCROLL_PAUSE_TIME)\n",
    "        new_links = driver.find_elements_by_class_name('project-feed__item__link')\n",
    "        for link in new_links: # a tag 찾은 후 중복되는 값들 제외\n",
    "            if link.get_attribute('href') not in lst_links:\n",
    "                lst_links.append(link.get_attribute('href'))\n",
    "        time.sleep(SCROLL_PAUSE_TIME)\n",
    "\n",
    "    # Calculate new scroll height and compare with last scroll height\n",
    "    # ***document.body.scrollHeight 무한 스크롤시 버그있어서 documentElement로 바꿔줌\n",
    "    new_height = driver.execute_script(\"return document.documentElement.scrollHeight\")\n",
    "    \n",
    "    # 새로운 height이 기존의 height과 같다면 페이지의 끝으로 이동후 다시 체크\n",
    "    if new_height == last_height:\n",
    "        # 스크롤 내리기 반복\n",
    "        driver.execute_script(\"window.scrollTo(0, document.documentElement.scrollHeight);\")\n",
    "        time.sleep(SCROLL_PAUSE_TIME)\n",
    "        new_links = driver.find_elements_by_class_name('project-feed__item__link')\n",
    "        for link in new_links:\n",
    "            if link.get_attribute('href') not in lst_links:\n",
    "                lst_links.append(link.get_attribute('href'))\n",
    "        time.sleep(SCROLL_PAUSE_TIME)\n",
    "        if new_height == last_height: # 다시 체크했는데 일치한다면 while loop 종료\n",
    "            break\n",
    "\n",
    "    last_height = new_height"
   ]
  }
 ],
 "metadata": {
  "kernelspec": {
   "display_name": "Python 3",
   "language": "python",
   "name": "python3"
  },
  "language_info": {
   "codemirror_mode": {
    "name": "ipython",
    "version": 3
   },
   "file_extension": ".py",
   "mimetype": "text/x-python",
   "name": "python",
   "nbconvert_exporter": "python",
   "pygments_lexer": "ipython3",
   "version": "3.7.3"
  },
  "latex_envs": {
   "LaTeX_envs_menu_present": true,
   "autoclose": false,
   "autocomplete": true,
   "bibliofile": "biblio.bib",
   "cite_by": "apalike",
   "current_citInitial": 1,
   "eqLabelWithNumbers": true,
   "eqNumInitial": 1,
   "hotkeys": {
    "equation": "Ctrl-E",
    "itemize": "Ctrl-I"
   },
   "labels_anchors": false,
   "latex_user_defs": false,
   "report_style_numbering": false,
   "user_envs_cfg": false
  }
 },
 "nbformat": 4,
 "nbformat_minor": 2
}
